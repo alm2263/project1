{
 "cells": [
  {
   "cell_type": "markdown",
   "metadata": {},
   "source": [
    "# Load Data"
   ]
  },
  {
   "cell_type": "code",
   "execution_count": 2,
   "metadata": {},
   "outputs": [],
   "source": [
    "import json\n",
    "import mysql.connector"
   ]
  },
  {
   "cell_type": "code",
   "execution_count": 3,
   "metadata": {},
   "outputs": [],
   "source": [
    "photos = []\n",
    "for line in open('../../../yelp_academic_dataset_photo.json', 'r'):\n",
    "    photos.append(json.loads(line))"
   ]
  },
  {
   "cell_type": "code",
   "execution_count": 4,
   "metadata": {},
   "outputs": [
    {
     "data": {
      "text/plain": [
       "{'photo_id': 'IuXwafFH3fZlTyXA-poz0w',\n",
       " 'business_id': 'wRKYaVXTks43GVSI2awTQA',\n",
       " 'caption': '',\n",
       " 'label': 'food'}"
      ]
     },
     "execution_count": 4,
     "metadata": {},
     "output_type": "execute_result"
    }
   ],
   "source": [
    "photos[0]"
   ]
  },
  {
   "cell_type": "code",
   "execution_count": 7,
   "metadata": {},
   "outputs": [
    {
     "data": {
      "text/plain": [
       "280992"
      ]
     },
     "execution_count": 7,
     "metadata": {},
     "output_type": "execute_result"
    }
   ],
   "source": [
    "len(photos)"
   ]
  },
  {
   "cell_type": "code",
   "execution_count": 8,
   "metadata": {},
   "outputs": [],
   "source": [
    "business = []\n",
    "for line in open('../../../yelp_academic_dataset_business.json', 'r'):\n",
    "    business.append(json.loads(line))"
   ]
  },
  {
   "cell_type": "code",
   "execution_count": 9,
   "metadata": {},
   "outputs": [
    {
     "data": {
      "text/plain": [
       "{'business_id': 'Apn5Q_b6Nz61Tq4XzPdf9A',\n",
       " 'name': 'Minhas Micro Brewery',\n",
       " 'neighborhood': '',\n",
       " 'address': '1314 44 Avenue NE',\n",
       " 'city': 'Calgary',\n",
       " 'state': 'AB',\n",
       " 'postal_code': 'T2E 6L6',\n",
       " 'latitude': 51.0918130155,\n",
       " 'longitude': -114.031674872,\n",
       " 'stars': 4.0,\n",
       " 'review_count': 24,\n",
       " 'is_open': 1,\n",
       " 'attributes': {'BikeParking': 'False',\n",
       "  'BusinessAcceptsCreditCards': 'True',\n",
       "  'BusinessParking': \"{'garage': False, 'street': True, 'validated': False, 'lot': False, 'valet': False}\",\n",
       "  'GoodForKids': 'True',\n",
       "  'HasTV': 'True',\n",
       "  'NoiseLevel': 'average',\n",
       "  'OutdoorSeating': 'False',\n",
       "  'RestaurantsAttire': 'casual',\n",
       "  'RestaurantsDelivery': 'False',\n",
       "  'RestaurantsGoodForGroups': 'True',\n",
       "  'RestaurantsPriceRange2': '2',\n",
       "  'RestaurantsReservations': 'True',\n",
       "  'RestaurantsTakeOut': 'True'},\n",
       " 'categories': 'Tours, Breweries, Pizza, Restaurants, Food, Hotels & Travel',\n",
       " 'hours': {'Monday': '8:30-17:0',\n",
       "  'Tuesday': '11:0-21:0',\n",
       "  'Wednesday': '11:0-21:0',\n",
       "  'Thursday': '11:0-21:0',\n",
       "  'Friday': '11:0-21:0',\n",
       "  'Saturday': '11:0-21:0'}}"
      ]
     },
     "execution_count": 9,
     "metadata": {},
     "output_type": "execute_result"
    }
   ],
   "source": [
    "business[0]"
   ]
  },
  {
   "cell_type": "code",
   "execution_count": 10,
   "metadata": {},
   "outputs": [
    {
     "data": {
      "text/plain": [
       "188593"
      ]
     },
     "execution_count": 10,
     "metadata": {},
     "output_type": "execute_result"
    }
   ],
   "source": [
    "len(business)"
   ]
  },
  {
   "cell_type": "markdown",
   "metadata": {},
   "source": [
    "# connection to database"
   ]
  },
  {
   "cell_type": "code",
   "execution_count": 1,
   "metadata": {},
   "outputs": [
    {
     "ename": "NameError",
     "evalue": "name 'mysql' is not defined",
     "output_type": "error",
     "traceback": [
      "\u001b[1;31m---------------------------------------------------------------------------\u001b[0m",
      "\u001b[1;31mNameError\u001b[0m                                 Traceback (most recent call last)",
      "\u001b[1;32m<ipython-input-1-b45af01ac8b9>\u001b[0m in \u001b[0;36m<module>\u001b[1;34m()\u001b[0m\n\u001b[1;32m----> 1\u001b[1;33m mydb = mysql.connector.connect(\n\u001b[0m\u001b[0;32m      2\u001b[0m   \u001b[0mhost\u001b[0m\u001b[1;33m=\u001b[0m\u001b[1;34m\"****************\"\u001b[0m\u001b[1;33m,\u001b[0m\u001b[1;33m\u001b[0m\u001b[0m\n\u001b[0;32m      3\u001b[0m   \u001b[0muser\u001b[0m\u001b[1;33m=\u001b[0m\u001b[1;34m\"***********\"\u001b[0m\u001b[1;33m,\u001b[0m\u001b[1;33m\u001b[0m\u001b[0m\n\u001b[0;32m      4\u001b[0m   \u001b[0mpasswd\u001b[0m\u001b[1;33m=\u001b[0m\u001b[1;34m\"*************\"\u001b[0m\u001b[1;33m,\u001b[0m\u001b[1;33m\u001b[0m\u001b[0m\n\u001b[0;32m      5\u001b[0m   \u001b[0mdatabase\u001b[0m\u001b[1;33m=\u001b[0m\u001b[1;34m\"\"\u001b[0m\u001b[1;33m\u001b[0m\u001b[0m\n",
      "\u001b[1;31mNameError\u001b[0m: name 'mysql' is not defined"
     ]
    }
   ],
   "source": [
    "mydb = mysql.connector.connect(\n",
    "  host=\"****************\",\n",
    "  user=\"***********\",\n",
    "  passwd=\"*************\",\n",
    "  database=\"*******\"\n",
    ")\n",
    "mycursor = mydb.cursor()"
   ]
  },
  {
   "cell_type": "code",
   "execution_count": null,
   "metadata": {},
   "outputs": [],
   "source": [
    "# design database schema here"
   ]
  },
  {
   "cell_type": "code",
   "execution_count": 21,
   "metadata": {},
   "outputs": [],
   "source": [
    "sql_init = \"\"\"\n",
    "create table Business(\n",
    "  business_id varchar(22) primary key,\n",
    "  b_name text,\n",
    "  neighborhood text,\n",
    "  city text,\n",
    "  state text,\n",
    "  postal_code varchar(7),\n",
    "  latitude float,\n",
    "  longitude float,\n",
    "  stars numeric,\n",
    "  review_count int,\n",
    "  is_open int\n",
    ");\n",
    "\n",
    "create table Photos(\n",
    "  photo_id varchar(22),\n",
    "  business_id varchar (22) references Business,\n",
    "  label text,\n",
    "  primary key (photo_id, business_id) \n",
    ");\n",
    "\"\"\"\n"
   ]
  },
  {
   "cell_type": "code",
   "execution_count": 22,
   "metadata": {},
   "outputs": [],
   "source": [
    "iterator = mycursor.execute(sql_init, multi=True)"
   ]
  },
  {
   "cell_type": "code",
   "execution_count": 25,
   "metadata": {},
   "outputs": [
    {
     "name": "stdout",
     "output_type": "stream",
     "text": [
      "('Business',)\n",
      "('Photos',)\n"
     ]
    }
   ],
   "source": [
    "mycursor.execute(\"SHOW TABLES\")\n",
    "\n",
    "for x in mycursor:\n",
    "    print(x)"
   ]
  },
  {
   "cell_type": "code",
   "execution_count": 54,
   "metadata": {},
   "outputs": [
    {
     "data": {
      "text/plain": [
       "188593"
      ]
     },
     "execution_count": 54,
     "metadata": {},
     "output_type": "execute_result"
    }
   ],
   "source": [
    "len(business)"
   ]
  },
  {
   "cell_type": "code",
   "execution_count": 87,
   "metadata": {},
   "outputs": [],
   "source": [
    "value = list(map(lambda record: (record['business_id'], \n",
    "                         record['name'],\n",
    "                         record['neighborhood'],\n",
    "                         record['city'],\n",
    "                         record['state'],\n",
    "                         record['postal_code'],\n",
    "                         record['latitude'],\n",
    "                         record['longitude'],\n",
    "                         record['stars'],\n",
    "                         record['review_count'],\n",
    "                         record['is_open']) ,business[170000:188593]))"
   ]
  },
  {
   "cell_type": "code",
   "execution_count": 88,
   "metadata": {},
   "outputs": [],
   "source": [
    "sql_insert = \"\"\"INSERT INTO Business (business_id,\n",
    "                               b_name, \n",
    "                               neighborhood, \n",
    "                               city, \n",
    "                               state,\n",
    "                               postal_code,\n",
    "                               latitude,\n",
    "                               longitude,\n",
    "                               stars,\n",
    "                               review_count,\n",
    "                               is_open)\n",
    "                               VALUES (%s,%s,%s,%s,%s,%s,%s,%s,%s,%s,%s)\"\"\"\n",
    "\n",
    "\n",
    "mycursor.executemany(sql_insert, value)"
   ]
  },
  {
   "cell_type": "code",
   "execution_count": 89,
   "metadata": {},
   "outputs": [
    {
     "name": "stdout",
     "output_type": "stream",
     "text": [
      "18593 record inserted.\n"
     ]
    }
   ],
   "source": [
    "mydb.commit()\n",
    "print(mycursor.rowcount, \"record inserted.\")"
   ]
  },
  {
   "cell_type": "code",
   "execution_count": 98,
   "metadata": {},
   "outputs": [],
   "source": [
    "def batch(iterable, n=1):\n",
    "    l = len(iterable)\n",
    "    for ndx in range(0, l, n):\n",
    "        yield iterable[ndx:min(ndx + n, l)]"
   ]
  },
  {
   "cell_type": "code",
   "execution_count": 115,
   "metadata": {},
   "outputs": [
    {
     "name": "stdout",
     "output_type": "stream",
     "text": [
      "30000 record inserted.\n",
      "30000 record inserted.\n",
      "30000 record inserted.\n",
      "30000 record inserted.\n",
      "30000 record inserted.\n",
      "30000 record inserted.\n",
      "30000 record inserted.\n",
      "30000 record inserted.\n",
      "30000 record inserted.\n",
      "10992 record inserted.\n"
     ]
    }
   ],
   "source": [
    "for x in batch(range(0, len(photos)), 30000):\n",
    "    sql_insert = \"\"\"INSERT INTO Photos (photo_id,\n",
    "                               business_id, \n",
    "                               label)\n",
    "                               VALUES (%s,%s,%s)\"\"\"\n",
    "\n",
    "    value = list(map(lambda record: (record['photo_id'], \n",
    "                         record['business_id'],\n",
    "                         record['label']) ,photos[slice(x.start,x.stop,1)]))\n",
    "\n",
    "    mycursor.executemany(sql_insert, value)\n",
    "    mydb.commit()\n",
    "    print(mycursor.rowcount, \"record inserted.\")"
   ]
  }
 ],
 "metadata": {
  "kernelspec": {
   "display_name": "Python 3",
   "language": "python",
   "name": "python3"
  },
  "language_info": {
   "codemirror_mode": {
    "name": "ipython",
    "version": 3
   },
   "file_extension": ".py",
   "mimetype": "text/x-python",
   "name": "python",
   "nbconvert_exporter": "python",
   "pygments_lexer": "ipython3",
   "version": "3.6.6"
  }
 },
 "nbformat": 4,
 "nbformat_minor": 2
}
