{
 "cells": [
  {
   "cell_type": "code",
   "execution_count": 1,
   "metadata": {},
   "outputs": [],
   "source": [
    "import os\n",
    "from sqlalchemy import create_engine\n",
    "# from sqlalchemy.orm import sessionmaker\n",
    "\n",
    "def db_connect():\n",
    "    if 'DB_USER_FA' in os.environ:\n",
    "        DB_USER = os.environ['DB_USER_FA']\n",
    "        DB_PASSWORD = os.environ['DB_PASSWORD_FA']\n",
    "        DB_SERVER = \"w4111.cisxo09blonu.us-east-1.rds.amazonaws.com\"\n",
    "        DATABASEURI = \"postgresql://\"+DB_USER+\":\"+DB_PASSWORD+\"@\"+DB_SERVER+\"/w4111\"\n",
    "        return create_engine(DATABASEURI)\n",
    "    else:\n",
    "        raise Exception(\n",
    "            'Database Credentials Not Found in the Environment Variables')"
   ]
  },
  {
   "cell_type": "code",
   "execution_count": 2,
   "metadata": {},
   "outputs": [
    {
     "data": {
      "text/plain": [
       "'alm2263'"
      ]
     },
     "execution_count": 2,
     "metadata": {},
     "output_type": "execute_result"
    }
   ],
   "source": [
    "os.environ['DB_USER_FA']"
   ]
  },
  {
   "cell_type": "code",
   "execution_count": 56,
   "metadata": {},
   "outputs": [],
   "source": [
    "hi,_,_ = (\"asdf\",\"df\",\"f\")"
   ]
  },
  {
   "cell_type": "code",
   "execution_count": 57,
   "metadata": {},
   "outputs": [
    {
     "data": {
      "text/plain": [
       "'asdf'"
      ]
     },
     "execution_count": 57,
     "metadata": {},
     "output_type": "execute_result"
    }
   ],
   "source": [
    "hi"
   ]
  },
  {
   "cell_type": "code",
   "execution_count": 58,
   "metadata": {},
   "outputs": [
    {
     "data": {
      "text/plain": [
       "'f'"
      ]
     },
     "execution_count": 58,
     "metadata": {},
     "output_type": "execute_result"
    }
   ],
   "source": [
    "_"
   ]
  },
  {
   "cell_type": "code",
   "execution_count": 6,
   "metadata": {},
   "outputs": [],
   "source": [
    "from __future__ import absolute_import\n",
    "from __future__ import division\n",
    "from __future__ import print_function\n",
    "from __future__ import unicode_literals\n",
    "\n",
    "from rasa_core_sdk import Action\n",
    "from rasa_core_sdk.events import SlotSet\n",
    "# from db import db_connect\n",
    "\n",
    "\n",
    "class StockAPI(object):\n",
    "    def __init__(self):\n",
    "        self.engine = db_connect()\n",
    "        print(\"connected to db...\")\n",
    "\n",
    "    def recommend(self):\n",
    "        \"\"\"\n",
    "        find top 5 popular stock according to the watchlist\n",
    "        \"\"\"\n",
    "        \n",
    "        s=\"\"\"\n",
    "        select S.name, COUNT(*)\n",
    "        from stock S, Watchlist W\n",
    "        where S.ticker = W.ticker\n",
    "        group by S.ticker\n",
    "        order by count(*) desc\n",
    "        limit 5;\n",
    "        \"\"\"\n",
    "        cursor = self.engine.execute(s)\n",
    "        names = []\n",
    "        for result in cursor:\n",
    "            names.append(result['name'])  # can also be accessed using result[0]\n",
    "        cursor.close()\n",
    "        stock_str = \", \".join(names)\n",
    "        return \"here is top 5 popular of stocks: {} \".format(stock_str)\n",
    "\n",
    "    def search_stock(self, stock):\n",
    "        \"\"\"\n",
    "        find the latest price of the stock\n",
    "        \"\"\"\n",
    "\n",
    "        s=\"\"\"select * \n",
    "        from Tick as T join Stock as S on T.ticker = S.ticker\n",
    "        where S.name ~* %s\n",
    "        order by record_date desc\n",
    "        limit 1\n",
    "        \"\"\"\n",
    "        cursor = self.engine.execute(s, (stock,))\n",
    "        for result in cursor:\n",
    "            date, open_price, close_price,_,_,_,_ = result\n",
    "        cursor.close()\n",
    "        return \"the open price for {} at {} is {} and the close price is {}\".format(stock,\n",
    "                                                                                    str(date),\n",
    "                                                                                   open_price,\n",
    "                                                                                   close_price)"
   ]
  },
  {
   "cell_type": "code",
   "execution_count": 7,
   "metadata": {},
   "outputs": [
    {
     "name": "stdout",
     "output_type": "stream",
     "text": [
      "connected to db...\n"
     ]
    }
   ],
   "source": [
    "stock_api = StockAPI()"
   ]
  },
  {
   "cell_type": "code",
   "execution_count": 26,
   "metadata": {},
   "outputs": [],
   "source": [
    "s=\"\"\"select * \n",
    "        from Tick as T join Stock as S on T.ticker = S.ticker\n",
    "        where S.name ~* %s\n",
    "        order by record_date desc\n",
    "        limit 1\n",
    "        \"\"\"\n",
    "c=stock_api.engine.execute(s,(\"walmt\"))\n",
    "c.fetchone()"
   ]
  },
  {
   "cell_type": "code",
   "execution_count": 27,
   "metadata": {},
   "outputs": [],
   "source": [
    "c.fetchone()"
   ]
  },
  {
   "cell_type": "code",
   "execution_count": 30,
   "metadata": {},
   "outputs": [],
   "source": [
    "s=\"\"\"select name \n",
    "        from Stock\n",
    "        \"\"\"\n",
    "c=stock_api.engine.execute(s)"
   ]
  },
  {
   "cell_type": "code",
   "execution_count": 31,
   "metadata": {},
   "outputs": [],
   "source": [
    "r=c.fetchall()"
   ]
  },
  {
   "cell_type": "code",
   "execution_count": 32,
   "metadata": {},
   "outputs": [
    {
     "data": {
      "text/plain": [
       "[('Walmart',),\n",
       " ('Exxon Mobil',),\n",
       " ('Berkshire Hathaway',),\n",
       " ('Apple',),\n",
       " ('UnitedHealth Group',),\n",
       " ('McKesson',),\n",
       " ('CVS Health',),\n",
       " ('Amazon',),\n",
       " ('AT&T',),\n",
       " ('General Motors',),\n",
       " ('JPMorgan Chase',),\n",
       " ('Boeing',),\n",
       " ('Anheuser-Busch',)]"
      ]
     },
     "execution_count": 32,
     "metadata": {},
     "output_type": "execute_result"
    }
   ],
   "source": [
    "r"
   ]
  },
  {
   "cell_type": "code",
   "execution_count": 34,
   "metadata": {},
   "outputs": [],
   "source": [
    "# c.fetchall()\n",
    "c.close()"
   ]
  },
  {
   "cell_type": "code",
   "execution_count": 28,
   "metadata": {},
   "outputs": [],
   "source": [
    "c.close()"
   ]
  },
  {
   "cell_type": "code",
   "execution_count": 15,
   "metadata": {},
   "outputs": [],
   "source": [
    "for c_r in c:\n",
    "    nothing=c_r\n",
    "c.close()"
   ]
  },
  {
   "cell_type": "code",
   "execution_count": 16,
   "metadata": {},
   "outputs": [
    {
     "ename": "NameError",
     "evalue": "name 'nothing' is not defined",
     "output_type": "error",
     "traceback": [
      "\u001b[1;31m---------------------------------------------------------------------------\u001b[0m",
      "\u001b[1;31mNameError\u001b[0m                                 Traceback (most recent call last)",
      "\u001b[1;32m<ipython-input-16-fff1693d959f>\u001b[0m in \u001b[0;36m<module>\u001b[1;34m()\u001b[0m\n\u001b[1;32m----> 1\u001b[1;33m \u001b[1;32mif\u001b[0m \u001b[0mnothing\u001b[0m\u001b[1;33m:\u001b[0m\u001b[1;33m\u001b[0m\u001b[0m\n\u001b[0m\u001b[0;32m      2\u001b[0m     \u001b[0mprint\u001b[0m\u001b[1;33m(\u001b[0m\u001b[1;34m\"yest\"\u001b[0m\u001b[1;33m)\u001b[0m\u001b[1;33m\u001b[0m\u001b[0m\n",
      "\u001b[1;31mNameError\u001b[0m: name 'nothing' is not defined"
     ]
    }
   ],
   "source": [
    "if nothing:\n",
    "    print(\"yest\")"
   ]
  },
  {
   "cell_type": "code",
   "execution_count": 4,
   "metadata": {},
   "outputs": [
    {
     "data": {
      "text/plain": [
       "'the open price for Walmart at 2018-10-22 is 97.34 and the close price is 96.74'"
      ]
     },
     "execution_count": 4,
     "metadata": {},
     "output_type": "execute_result"
    }
   ],
   "source": [
    "stock_api.search_stock(\"Walmart\")"
   ]
  },
  {
   "cell_type": "code",
   "execution_count": 9,
   "metadata": {},
   "outputs": [
    {
     "ename": "UnboundLocalError",
     "evalue": "local variable 'date' referenced before assignment",
     "output_type": "error",
     "traceback": [
      "\u001b[1;31m---------------------------------------------------------------------------\u001b[0m",
      "\u001b[1;31mUnboundLocalError\u001b[0m                         Traceback (most recent call last)",
      "\u001b[1;32m<ipython-input-9-45aa96c351c9>\u001b[0m in \u001b[0;36m<module>\u001b[1;34m()\u001b[0m\n\u001b[1;32m----> 1\u001b[1;33m \u001b[0mstock_api\u001b[0m\u001b[1;33m.\u001b[0m\u001b[0msearch_stock\u001b[0m\u001b[1;33m(\u001b[0m\u001b[1;34m\"what?\"\u001b[0m\u001b[1;33m)\u001b[0m\u001b[1;33m\u001b[0m\u001b[0m\n\u001b[0m",
      "\u001b[1;32m<ipython-input-6-6495fb889bc4>\u001b[0m in \u001b[0;36msearch_stock\u001b[1;34m(self, stock)\u001b[0m\n\u001b[0;32m     51\u001b[0m         \u001b[0mcursor\u001b[0m\u001b[1;33m.\u001b[0m\u001b[0mclose\u001b[0m\u001b[1;33m(\u001b[0m\u001b[1;33m)\u001b[0m\u001b[1;33m\u001b[0m\u001b[0m\n\u001b[0;32m     52\u001b[0m         return \"the open price for {} at {} is {} and the close price is {}\".format(stock,\n\u001b[1;32m---> 53\u001b[1;33m                                                                                     \u001b[0mstr\u001b[0m\u001b[1;33m(\u001b[0m\u001b[0mdate\u001b[0m\u001b[1;33m)\u001b[0m\u001b[1;33m,\u001b[0m\u001b[1;33m\u001b[0m\u001b[0m\n\u001b[0m\u001b[0;32m     54\u001b[0m                                                                                    \u001b[0mopen_price\u001b[0m\u001b[1;33m,\u001b[0m\u001b[1;33m\u001b[0m\u001b[0m\n\u001b[0;32m     55\u001b[0m                                                                                    close_price)\n",
      "\u001b[1;31mUnboundLocalError\u001b[0m: local variable 'date' referenced before assignment"
     ]
    }
   ],
   "source": [
    "stock_api.search_stock(\"what?\")"
   ]
  },
  {
   "cell_type": "code",
   "execution_count": 51,
   "metadata": {},
   "outputs": [],
   "source": [
    "con = stock_api.engine.connect()"
   ]
  },
  {
   "cell_type": "code",
   "execution_count": 52,
   "metadata": {},
   "outputs": [],
   "source": [
    "ss=\"\"\"select * \n",
    "        from Tick as T join Stock as S on T.ticker = S.ticker\n",
    "        where S.name = %s\n",
    "        order by record_date desc\n",
    "        limit 1\n",
    "        \"\"\""
   ]
  },
  {
   "cell_type": "code",
   "execution_count": 53,
   "metadata": {},
   "outputs": [
    {
     "data": {
      "text/plain": [
       "'select * \\n        from Tick as T join Stock as S on T.ticker = S.ticker\\n        where S.name = %s\\n        order by record_date desc\\n        limit 1\\n        '"
      ]
     },
     "execution_count": 53,
     "metadata": {},
     "output_type": "execute_result"
    }
   ],
   "source": [
    "ss"
   ]
  },
  {
   "cell_type": "code",
   "execution_count": 59,
   "metadata": {},
   "outputs": [],
   "source": [
    "re=con.execute(ss,(\"Walmart\",))\n",
    "for r in re:\n",
    "    date, open_price, close_price,_,_,_,_ = r\n",
    "re.close()"
   ]
  },
  {
   "cell_type": "code",
   "execution_count": 70,
   "metadata": {},
   "outputs": [],
   "source": [
    "from datetime import datetime"
   ]
  },
  {
   "cell_type": "code",
   "execution_count": 76,
   "metadata": {},
   "outputs": [
    {
     "data": {
      "text/plain": [
       "'2018-10-22'"
      ]
     },
     "execution_count": 76,
     "metadata": {},
     "output_type": "execute_result"
    }
   ],
   "source": [
    "str(date)"
   ]
  },
  {
   "cell_type": "code",
   "execution_count": null,
   "metadata": {},
   "outputs": [],
   "source": []
  },
  {
   "cell_type": "code",
   "execution_count": 25,
   "metadata": {},
   "outputs": [],
   "source": [
    "re=con.execute(\"\"\"SELECT table_name\n",
    "  FROM information_schema.tables\n",
    " WHERE table_schema='alm2263'\"\"\")\n",
    "for row in re:\n",
    "    print (row)"
   ]
  },
  {
   "cell_type": "code",
   "execution_count": 18,
   "metadata": {},
   "outputs": [],
   "source": [
    "result.close()"
   ]
  },
  {
   "cell_type": "code",
   "execution_count": null,
   "metadata": {},
   "outputs": [],
   "source": [
    "class ActionSearchStock(Action):\n",
    "    \"\"\"\n",
    "    given a stock name or ticker name,\n",
    "    provide the latest price and relevant information\n",
    "    \"\"\"\n",
    "    def name(self):\n",
    "        return 'action_search_stock'\n",
    "\n",
    "    def run(self, dispatcher, tracker, domain):\n",
    "        # dispatcher.utter_message(\"looking for this stock\")\n",
    "        stock_info = stock_api.search(tracker.get_slot(\"stock\"))\n",
    "        dispatcher.utter_message(\"{}\".format(stock_info))\n",
    "        return []\n",
    "\n",
    "\n",
    "class ActionSuggestStock(Action):\n",
    "    def name(self):\n",
    "        return 'action_suggest_stock'\n",
    "\n",
    "    def run(self, dispatcher, tracker, domain):\n",
    "        recommend_info = stock_api.recommend()\n",
    "        dispatcher.utter_message(\n",
    "          \"here's what I found: {}\".format(recommend_info))\n",
    "        return []"
   ]
  }
 ],
 "metadata": {
  "kernelspec": {
   "display_name": "Python 3",
   "language": "python",
   "name": "python3"
  },
  "language_info": {
   "codemirror_mode": {
    "name": "ipython",
    "version": 3
   },
   "file_extension": ".py",
   "mimetype": "text/x-python",
   "name": "python",
   "nbconvert_exporter": "python",
   "pygments_lexer": "ipython3",
   "version": "3.6.6"
  }
 },
 "nbformat": 4,
 "nbformat_minor": 2
}
