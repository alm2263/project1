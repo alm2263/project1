{
 "cells": [
  {
   "cell_type": "code",
   "execution_count": 1,
   "metadata": {},
   "outputs": [],
   "source": [
    "import mysql.connector\n",
    "import pandas as pd\n",
    "from pandas import Index\n",
    "import os"
   ]
  },
  {
   "cell_type": "markdown",
   "metadata": {},
   "source": [
    "### There are two types of yelp data\n",
    "data set can be download here \n",
    "https://www.yelp.com/dataset/download \n",
    "\n",
    "1. photos are stored in aws s3 bucket (lab account)\n",
    "2. records are stored in aws relation database (temperately stored in wesley's aws account)\n",
    "\n",
    "The purpose of the use of data is to make our lily more knowledgeable.  \n",
    "Lily can make restaurant recommendation to the user and show some pictures of the resturant"
   ]
  },
  {
   "cell_type": "markdown",
   "metadata": {},
   "source": [
    "###  SQL database Schema"
   ]
  },
  {
   "cell_type": "markdown",
   "metadata": {},
   "source": [
    "This is the database schema defined\n",
    "```sql\n",
    "create table Business(\n",
    "  business_id varchar(22) primary key,\n",
    "  b_name text,\n",
    "  neighborhood text,\n",
    "  city text,\n",
    "  state text,\n",
    "  postal_code varchar(7),\n",
    "  latitude float,\n",
    "  longitude float,\n",
    "  stars numeric,\n",
    "  review_count int,\n",
    "  is_open int\n",
    ");\n",
    "\n",
    "create table Photos(\n",
    "  photo_id varchar(22),\n",
    "  business_id varchar (22) references Business,\n",
    "  label text,\n",
    "  primary key (photo_id, business_id) \n",
    ");\n",
    "```"
   ]
  },
  {
   "cell_type": "markdown",
   "metadata": {},
   "source": [
    "database are stored in **my own aws account**, because I don't have permission to set up one in gamma lab. I would set up an aws rds as soon as I get the permission\n",
    "```\n",
    "          host     =\"*************.amazonaws.com\",\n",
    "          user     =\"************\",\n",
    "          passwd   =\"**********\",\n",
    "          database =\"**********\"\n",
    "```"
   ]
  },
  {
   "cell_type": "markdown",
   "metadata": {},
   "source": [
    "Thre are total 1047 cities in the database, 'new york' is not in the database"
   ]
  },
  {
   "cell_type": "markdown",
   "metadata": {},
   "source": [
    "## customized back end API call"
   ]
  },
  {
   "cell_type": "markdown",
   "metadata": {},
   "source": [
    "####  the following ocde will be used in bot.py to customized action"
   ]
  },
  {
   "cell_type": "code",
   "execution_count": 10,
   "metadata": {},
   "outputs": [],
   "source": [
    "class RestaurantAPI(object):\n",
    "    def __init__(self):\n",
    "        self.mydb = mysql.connector.connect(\n",
    "          host     = os.environ['RDS_HOSTNAME'],\n",
    "          user     = os.environ['RDS_USERNAME'],\n",
    "          passwd   = os.environ['RDS_PASSWORD'],\n",
    "          database = os.environ['RDS_DB_NAME'])\n",
    "        \n",
    "        self.cursor = self.mydb.cursor()\n",
    "\n",
    "    def search_restaurant(self, city_name):\n",
    "        query = \"select b_name, business_id from Business where city = '{}' order by stars desc limit 10\".format(city_name)\n",
    "        self.cursor.execute(query)\n",
    "        data = self.cursor.fetchall()\n",
    "        return data\n",
    "\n",
    "\n",
    "    def search_photo(self, restaurant_id):\n",
    "        # return url or none\n",
    "        query = \"select photo_id from Photos where business_id = '{}' limit 5 \".format(restaurant_id)\n",
    "        self.cursor.execute(query)\n",
    "        photo_id_list = [record[0] for record in self.cursor.fetchall()]\n",
    "        photo_url_list = [\"https://s3.amazonaws.com/robot-advisor/{}.jpg\".format(photo_id) for photo_id in photo_id_list]\n",
    "        return photo_url_list"
   ]
  },
  {
   "cell_type": "code",
   "execution_count": 8,
   "metadata": {},
   "outputs": [],
   "source": [
    "api=RestaurantAPI()"
   ]
  },
  {
   "cell_type": "code",
   "execution_count": 12,
   "metadata": {},
   "outputs": [
    {
     "data": {
      "text/plain": [
       "[('Dial Carpet Cleaning', '--WsruI0IGEoeRmkErU5Gg'),\n",
       " ('Pinnacle Restoration', '--Y7NhBKzLTbNliMUX_wfg'),\n",
       " ('Nacho Mobile Auto Repair', '--z7PM8AGaJP0aBmGMY7RA'),\n",
       " ('Leisure Lawn', '-0KSt9tXv6C015vmAcSIcg'),\n",
       " ('Bachelor Vegas', '-0VImVWDeqewaA3th8fzIg'),\n",
       " ('Pick N Puff', '-0d4L4U3vKnTT0MEgyX_WA'),\n",
       " ('Sugar Me Clean Beauty Lounge', '-0gEYa7iHAshDcMvJ0Vuag'),\n",
       " ('Red Rock Canyon Tours', '-1W8v_0LVdvXMtynNcn4aA'),\n",
       " (\"Bavette's Steakhouse & Bar\", '-1m9o3vGRA8IBPNvNqKLmA'),\n",
       " ('La Tapatia Market', '-1uVyyy3UXNA9WoPucNniA')]"
      ]
     },
     "execution_count": 12,
     "metadata": {},
     "output_type": "execute_result"
    }
   ],
   "source": [
    "# if it match it will return a pandas table\n",
    "api.search_restaurant(\"Las Vegas\")"
   ]
  },
  {
   "cell_type": "code",
   "execution_count": 46,
   "metadata": {},
   "outputs": [],
   "source": [
    "restaurant_table=api.search_restaurant(\"Hudson\")"
   ]
  },
  {
   "cell_type": "code",
   "execution_count": 49,
   "metadata": {},
   "outputs": [
    {
     "data": {
      "text/plain": [
       "['Spot-On Home Improvements',\n",
       " 'Peace Love & Little Donuts - Hudson',\n",
       " 'Pure Barre - Hudson',\n",
       " 'Cambridge Jewelers',\n",
       " 'Kevin C Aiken, DDS',\n",
       " 'Goldfish Swim School - Hudson',\n",
       " 'Olive My Heart',\n",
       " 'The Red Twig',\n",
       " 'Falling Waters Spa',\n",
       " 'Suburban Sit']"
      ]
     },
     "execution_count": 49,
     "metadata": {},
     "output_type": "execute_result"
    }
   ],
   "source": [
    "list(restaurant_table['b_name'])"
   ]
  },
  {
   "cell_type": "code",
   "execution_count": 19,
   "metadata": {},
   "outputs": [],
   "source": [
    "# if it match none, it will return None\n",
    "api.search_restaurant(\"New York\")"
   ]
  },
  {
   "cell_type": "code",
   "execution_count": null,
   "metadata": {},
   "outputs": [],
   "source": [
    "# if it match a record, it will return empty list "
   ]
  },
  {
   "cell_type": "code",
   "execution_count": 60,
   "metadata": {},
   "outputs": [
    {
     "data": {
      "text/plain": [
       "['https://s3.amazonaws.com/robot-advisor/BC8FBTL_RP9lSwq6zjW3EQ.jpg',\n",
       " 'https://s3.amazonaws.com/robot-advisor/drdIB75rz8KtWEVo63X5Mg.jpg',\n",
       " 'https://s3.amazonaws.com/robot-advisor/EAgvjf-7mjSAZtcAQCwElA.jpg',\n",
       " 'https://s3.amazonaws.com/robot-advisor/EISXbTioGIO1_TZcxp_4NQ.jpg',\n",
       " 'https://s3.amazonaws.com/robot-advisor/el2VWIMbm8pdTR44Vql0vQ.jpg']"
      ]
     },
     "execution_count": 60,
     "metadata": {},
     "output_type": "execute_result"
    }
   ],
   "source": [
    "api.search_photo(\"-1m9o3vGRA8IBPNvNqKLmA\")"
   ]
  },
  {
   "cell_type": "code",
   "execution_count": 50,
   "metadata": {},
   "outputs": [
    {
     "data": {
      "text/plain": [
       "[]"
      ]
     },
     "execution_count": 50,
     "metadata": {},
     "output_type": "execute_result"
    }
   ],
   "source": [
    "api.search_photo(\"8TapxIxtzS8OzIIMpdqWjw\")"
   ]
  },
  {
   "cell_type": "code",
   "execution_count": 22,
   "metadata": {},
   "outputs": [
    {
     "data": {
      "text/plain": [
       "[]"
      ]
     },
     "execution_count": 22,
     "metadata": {},
     "output_type": "execute_result"
    }
   ],
   "source": [
    "api.search_photo(\"8TapxIxtzS8OzIIMpdqWjw\")"
   ]
  },
  {
   "cell_type": "code",
   "execution_count": 24,
   "metadata": {},
   "outputs": [
    {
     "name": "stdout",
     "output_type": "stream",
     "text": [
      "('---SnSf4OfUFfJmCxw1DZA', 'XQ0RIDqgnkXueL6y1CY3Cg', 'food')\n",
      "('--0uqWanwN31OkuuwJ1zjQ', 'XIg92ukZJn_1aiNx0OmusQ', 'food')\n",
      "('--3gCyYz0Eo3r07tAvUbhg', 'VeiL_tgw7dsl-7IcnOsh0g', 'food')\n",
      "('--3vR19cePIkGQBgcLsQkw', 'If6Bku2jkgPiikR6HBu-XQ', 'food')\n",
      "('--5FyXiUudlvrJyUCvpZJA', 'aqrTv6QiU0J9Sxm_T--c5g', 'food')\n"
     ]
    }
   ],
   "source": [
    "api.cursor.execute(\"select * from Photos limit 5\")\n",
    "for row in api.cursor:\n",
    "    print(row)"
   ]
  },
  {
   "cell_type": "code",
   "execution_count": 54,
   "metadata": {},
   "outputs": [
    {
     "name": "stdout",
     "output_type": "stream",
     "text": [
      "('8g4bxSb1MvOW0GZbj30nsg', 'Falling Waters Spa', '', 'Hudson', 'OH', '44236', 41.2144, -81.444, Decimal('5'), 4, 1)\n"
     ]
    }
   ],
   "source": [
    "api.cursor.execute(\"select * from Business where business_id = '8g4bxSb1MvOW0GZbj30nsg'\")\n",
    "for row in api.cursor:\n",
    "    print(row)"
   ]
  },
  {
   "cell_type": "code",
   "execution_count": 62,
   "metadata": {},
   "outputs": [],
   "source": [
    "if api.search_photo('8g4bxSb1MvOW0GZbj30nsg'):\n",
    "    print(\"hi\")"
   ]
  },
  {
   "cell_type": "code",
   "execution_count": 42,
   "metadata": {},
   "outputs": [],
   "source": [
    "# show some of the images"
   ]
  },
  {
   "cell_type": "code",
   "execution_count": 41,
   "metadata": {},
   "outputs": [
    {
     "data": {
      "text/html": [
       "<img src=\"https://s3.amazonaws.com/robot-advisor/---SnSf4OfUFfJmCxw1DZA.jpg\"/>"
      ],
      "text/plain": [
       "<IPython.core.display.Image object>"
      ]
     },
     "execution_count": 41,
     "metadata": {},
     "output_type": "execute_result"
    }
   ],
   "source": [
    "from IPython.display import Image\n",
    "from IPython.core.display import HTML \n",
    "Image(url= \"https://s3.amazonaws.com/robot-advisor/---SnSf4OfUFfJmCxw1DZA.jpg\")"
   ]
  },
  {
   "cell_type": "code",
   "execution_count": 44,
   "metadata": {},
   "outputs": [
    {
     "data": {
      "text/html": [
       "<img src=\"https://s3.amazonaws.com/robot-advisor/hqDoSctmKnrlwdwlez0rHQ.jpg\"/>"
      ],
      "text/plain": [
       "<IPython.core.display.Image object>"
      ]
     },
     "execution_count": 44,
     "metadata": {},
     "output_type": "execute_result"
    }
   ],
   "source": [
    "Image(url= \"https://s3.amazonaws.com/robot-advisor/hqDoSctmKnrlwdwlez0rHQ.jpg\")"
   ]
  },
  {
   "cell_type": "code",
   "execution_count": 45,
   "metadata": {},
   "outputs": [
    {
     "data": {
      "text/html": [
       "<img src=\"https://s3.amazonaws.com/robot-advisor/NimlLnaxg0M49ULwenNylg.jpg\"/>"
      ],
      "text/plain": [
       "<IPython.core.display.Image object>"
      ]
     },
     "execution_count": 45,
     "metadata": {},
     "output_type": "execute_result"
    }
   ],
   "source": [
    "Image(url= \"https://s3.amazonaws.com/robot-advisor/NimlLnaxg0M49ULwenNylg.jpg\")"
   ]
  }
 ],
 "metadata": {
  "kernelspec": {
   "display_name": "Python 3",
   "language": "python",
   "name": "python3"
  },
  "language_info": {
   "codemirror_mode": {
    "name": "ipython",
    "version": 3
   },
   "file_extension": ".py",
   "mimetype": "text/x-python",
   "name": "python",
   "nbconvert_exporter": "python",
   "pygments_lexer": "ipython3",
   "version": "3.6.6"
  }
 },
 "nbformat": 4,
 "nbformat_minor": 2
}
